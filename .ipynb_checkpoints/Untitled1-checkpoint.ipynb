{
 "cells": [
  {
   "cell_type": "code",
   "execution_count": 87,
   "id": "88db7ff5-b9a4-49cb-af33-72837fa58357",
   "metadata": {},
   "outputs": [],
   "source": [
    "import pandas as pd\n",
    "from sklearn.feature_extraction.text  import CountVectorizer\n",
    "from sklearn.metrics.pairwise import cosine_similarity"
   ]
  },
  {
   "cell_type": "code",
   "execution_count": 88,
   "id": "027da22f-0f7a-45c4-8078-1b41fa6226d6",
   "metadata": {},
   "outputs": [],
   "source": [
    "def combined_features(row):\n",
    "    return row['title']+\" \" + row['description']+\" \" + row['author']+\" \" + row['genre']"
   ]
  },
  {
   "cell_type": "code",
   "execution_count": 106,
   "id": "5d5799a9-6d40-4b2b-b42d-fb4ad3f5900c",
   "metadata": {},
   "outputs": [],
   "source": [
    "df = pd.read_csv(\"dataset.csv\")"
   ]
  },
  {
   "cell_type": "code",
   "execution_count": 107,
   "id": "2a0469f7-aaea-4dbc-98be-06d305cae484",
   "metadata": {},
   "outputs": [],
   "source": [
    "features = ['title','author','description','genre']\n",
    "for feature in features:\n",
    "    df[feature] = df[feature].fillna('')"
   ]
  },
  {
   "cell_type": "code",
   "execution_count": 108,
   "id": "e2e20730-0791-459a-a5a1-2f8d9206727b",
   "metadata": {},
   "outputs": [],
   "source": [
    "df['combined_features'] = df.apply(combined_features,axis =1)"
   ]
  },
  {
   "cell_type": "code",
   "execution_count": 109,
   "id": "d65cc83d-9d62-41ab-9adb-6984f4e649ff",
   "metadata": {},
   "outputs": [
    {
     "data": {
      "text/plain": [
       "0       Between Two Fires: American Indians in the Civ...\n",
       "1       Fashion Sourcebook 1920s Fashion Sourcebook - ...\n",
       "2       Hungary 56 The seminal history and analysis of...\n",
       "3       All-American Anarchist: Joseph A. Labadie and ...\n",
       "4       Les oiseaux gourmands Aujourdâ€™hui, lâ€™oisea...\n",
       "                              ...                        \n",
       "4488    Der KÃ¶nig der purpurnen Stadt  Lehrjahre sind...\n",
       "4489    The Man Who Would Be King: The Life of Philipp...\n",
       "4490    Spirit Junkie: A Radical Road to Self-Love and...\n",
       "4491    The Birds The birds kept coming at him from th...\n",
       "4492    The Book of Dede Korkut The Book of Dede Korku...\n",
       "Name: combined_features, Length: 4493, dtype: object"
      ]
     },
     "execution_count": 109,
     "metadata": {},
     "output_type": "execute_result"
    }
   ],
   "source": [
    "df['combined_features']"
   ]
  },
  {
   "cell_type": "code",
   "execution_count": 110,
   "id": "b1c4c8a6-d98d-406e-888d-e3d990528c53",
   "metadata": {},
   "outputs": [],
   "source": [
    "cv = CountVectorizer()"
   ]
  },
  {
   "cell_type": "code",
   "execution_count": 111,
   "id": "d78cef86-0a33-4843-bdd9-804f273f4a58",
   "metadata": {},
   "outputs": [],
   "source": [
    "count_matrix = cv.fit_transform(df[\"combined_features\"])"
   ]
  },
  {
   "cell_type": "code",
   "execution_count": 112,
   "id": "ede513e4-fa43-4240-b320-3a84275145f2",
   "metadata": {},
   "outputs": [
    {
     "data": {
      "text/plain": [
       "array([[0, 0, 0, ..., 0, 0, 0],\n",
       "       [0, 0, 0, ..., 0, 0, 0],\n",
       "       [0, 0, 0, ..., 0, 0, 0],\n",
       "       ...,\n",
       "       [0, 0, 0, ..., 0, 0, 0],\n",
       "       [0, 0, 0, ..., 0, 0, 0],\n",
       "       [0, 0, 0, ..., 0, 0, 0]], dtype=int64)"
      ]
     },
     "execution_count": 112,
     "metadata": {},
     "output_type": "execute_result"
    }
   ],
   "source": [
    "count_matrix.toarray()"
   ]
  },
  {
   "cell_type": "code",
   "execution_count": 113,
   "id": "1d2e3014-b16f-4a6b-8453-c8b9ffaf50db",
   "metadata": {},
   "outputs": [],
   "source": [
    "def get_index_from_title(title):\n",
    "    return df.index[df.title == title][0]"
   ]
  },
  {
   "cell_type": "code",
   "execution_count": 114,
   "id": "97cdb147-372e-4973-83ab-bd7321b853e2",
   "metadata": {},
   "outputs": [],
   "source": [
    "cosine_sim = cosine_similarity(count_matrix)"
   ]
  },
  {
   "cell_type": "code",
   "execution_count": 115,
   "id": "2c52dc55-1668-4e49-a0ce-f46c15ef8728",
   "metadata": {},
   "outputs": [
    {
     "data": {
      "text/plain": [
       "array([[1.        , 0.16204921, 0.21513264, ..., 0.12834041, 0.10239078,\n",
       "        0.19972568],\n",
       "       [0.16204921, 1.        , 0.46983178, ..., 0.29016662, 0.28659504,\n",
       "        0.51000007],\n",
       "       [0.21513264, 0.46983178, 1.        , ..., 0.29911062, 0.37099112,\n",
       "        0.62397504],\n",
       "       ...,\n",
       "       [0.12834041, 0.29016662, 0.29911062, ..., 1.        , 0.14235947,\n",
       "        0.4363692 ],\n",
       "       [0.10239078, 0.28659504, 0.37099112, ..., 0.14235947, 1.        ,\n",
       "        0.40065438],\n",
       "       [0.19972568, 0.51000007, 0.62397504, ..., 0.4363692 , 0.40065438,\n",
       "        1.        ]])"
      ]
     },
     "execution_count": 115,
     "metadata": {},
     "output_type": "execute_result"
    }
   ],
   "source": [
    "cosine_sim"
   ]
  },
  {
   "cell_type": "code",
   "execution_count": 116,
   "id": "5f67f1eb-e47c-430f-8848-f20866275cd2",
   "metadata": {},
   "outputs": [],
   "source": [
    "movie_user_likes= \"Hawaii: An Uncommon History\""
   ]
  },
  {
   "cell_type": "code",
   "execution_count": 117,
   "id": "50d5193b-1241-4624-8edb-1853b15c0df1",
   "metadata": {},
   "outputs": [],
   "source": [
    "movie_index = get_index_from_title(movie_user_likes)"
   ]
  },
  {
   "cell_type": "code",
   "execution_count": 118,
   "id": "30594106-2fd0-48a8-a3e0-a34cabcd4934",
   "metadata": {},
   "outputs": [],
   "source": [
    "similar_movies = list(enumerate(cosine_sim[movie_index]*100))"
   ]
  },
  {
   "cell_type": "code",
   "execution_count": 119,
   "id": "3fbe1c4b-2cb2-42c9-8221-46c1bb8f2b0b",
   "metadata": {},
   "outputs": [],
   "source": [
    "sorted_similar_movie = sorted(similar_movies,key = lambda x: x[1], reverse=True)"
   ]
  },
  {
   "cell_type": "code",
   "execution_count": 120,
   "id": "a3dd6e83-2a1c-4ad4-bc96-53456600770c",
   "metadata": {},
   "outputs": [],
   "source": [
    "def get_title_from_index(index,o):\n",
    "    return df[df.index == index][\"title\"].values[0]+\"-\"+str(o)"
   ]
  },
  {
   "cell_type": "code",
   "execution_count": 121,
   "id": "2327a7dd-732c-443b-891d-2613241929cd",
   "metadata": {},
   "outputs": [],
   "source": [
    "i=0"
   ]
  },
  {
   "cell_type": "code",
   "execution_count": 122,
   "id": "0d635ec0-3efc-4c9f-af1c-da1d175505ae",
   "metadata": {},
   "outputs": [
    {
     "name": "stdout",
     "output_type": "stream",
     "text": [
      "Hawaii: An Uncommon History-100.00000000000003\n",
      "You Are My Miracle-35.284342170878155\n",
      "Love, Sex, and Happily Ever After: Preparing for a Marriage That Goes the Distance-34.538830040400136\n",
      "How to Draw the Human Figure: Famous Artists School, Step-by-Step Method-32.50513809837257\n",
      "Punishment: Earth-31.644698806466952\n",
      "Iron Sunrise-30.998544111444005\n",
      "Night of the Necromancer: Can You Survive the Zombie Apocalypse?-30.888556468751116\n",
      "The Year of the Gorilla-30.671145149811046\n",
      "Birdcraft: A Field Book of Two Hundred Song, Game, and Water Birds-30.195279627036275\n",
      "Book in a Month: The Fool-Proof System for Writing a Novel in 30 Days-30.165293473677558\n",
      "You and Your Future-29.731356871703195\n",
      "The Heart Of A Stranger-29.580398915498073\n",
      "Pokemon Gold, Silver, and Crystal (Prima's Official Strategy Guide)-29.301420042732584\n",
      "Love: A History-29.160592175990214\n",
      "Periodic Tales: The Curious Lives of the Elements-29.12755250290396\n",
      "The Art of Reading-28.803291992923825\n",
      "Never Too Late-28.79784867963834\n",
      "1519 All-Natural, All-Amazing Gardening Secrets-28.729720245711153\n",
      "Let Prayer Change Your Life-28.259163145533726\n",
      "Pokemon Gold & Silver - Prima's Official Strategy Guide-28.038878557390344\n",
      "Certain to Win: The Strategy of John Boyd, Applied to Business-27.977089363664064\n"
     ]
    }
   ],
   "source": [
    "for movie in sorted_similar_movie:\n",
    "    \n",
    "    print(get_title_from_index(movie[0],movie[1]))\n",
    "    i=i+1\n",
    "   \n",
    "    if i>20:\n",
    "        break"
   ]
  },
  {
   "cell_type": "code",
   "execution_count": null,
   "id": "1ffcab36-fbdb-47e9-bb64-245a4b22f9ce",
   "metadata": {},
   "outputs": [],
   "source": []
  },
  {
   "cell_type": "code",
   "execution_count": null,
   "id": "7541a179-0262-488f-926f-d63544f5441a",
   "metadata": {},
   "outputs": [],
   "source": []
  }
 ],
 "metadata": {
  "kernelspec": {
   "display_name": "Python 3 (ipykernel)",
   "language": "python",
   "name": "python3"
  },
  "language_info": {
   "codemirror_mode": {
    "name": "ipython",
    "version": 3
   },
   "file_extension": ".py",
   "mimetype": "text/x-python",
   "name": "python",
   "nbconvert_exporter": "python",
   "pygments_lexer": "ipython3",
   "version": "3.9.5"
  },
  "vscode": {
   "interpreter": {
    "hash": "5c3be06a3efaa63dfeb5d07fe8b290bd7ed614389b8961fa721744efb4b3890f"
   }
  }
 },
 "nbformat": 4,
 "nbformat_minor": 5
}
